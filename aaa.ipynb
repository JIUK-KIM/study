{
 "cells": [
  {
   "cell_type": "code",
   "execution_count": 8,
   "id": "a34191ea",
   "metadata": {},
   "outputs": [
    {
     "name": "stderr",
     "output_type": "stream",
     "text": [
      "<ipython-input-8-24912771b762>:3: DeprecationWarning: executable_path has been deprecated, please pass in a Service object\n",
      "  driver = webdriver.Chrome(\"/Users/baseamp/chromedriver\")\n"
     ]
    }
   ],
   "source": [
    "from selenium import webdriver\n",
    "\n",
    "driver = webdriver.Chrome(\"/Users/baseamp/chromedriver\")"
   ]
  },
  {
   "cell_type": "code",
   "execution_count": 7,
   "id": "97c12da0",
   "metadata": {},
   "outputs": [
    {
     "name": "stdout",
     "output_type": "stream",
     "text": [
      "/Users/baseamp/chromedriver\n"
     ]
    }
   ],
   "source": [
    "import os\n",
    "\n",
    "print(os.path.abspath(\"chromedriver\"))"
   ]
  },
  {
   "cell_type": "code",
   "execution_count": null,
   "id": "2bf8d833",
   "metadata": {},
   "outputs": [],
   "source": [
    "chrome_driver = webdriver.C"
   ]
  },
  {
   "cell_type": "code",
   "execution_count": 26,
   "id": "55bc81f6",
   "metadata": {},
   "outputs": [
    {
     "name": "stdout",
     "output_type": "stream",
     "text": [
      "[<title class=\"t\" id=\"ti\">test site</title>]\n",
      "[<p>test1</p>, <p>test2</p>, <p>test3</p>]\n",
      "[<title class=\"t\" id=\"ti\">test site</title>]\n"
     ]
    }
   ],
   "source": [
    "from bs4 import BeautifulSoup\n",
    "\n",
    "html = \"\"\"<html> <head> <title class=\"t\" id=\"ti\">test site</title> </head> <body> <p>test1</p>  <p>test2</p>  <p>test3</p> </body> </html>\"\"\"\n",
    "\n",
    "soup = BeautifulSoup(html,'lxml')\n",
    "\n",
    "print(soup.find_all('title'))\n",
    "\n",
    "print(soup.find_all('p'))\n",
    "\n",
    "print(soup.find_all(id = \"ti\"))"
   ]
  }
 ],
 "metadata": {
  "kernelspec": {
   "display_name": "Python 3",
   "language": "python",
   "name": "python3"
  },
  "language_info": {
   "codemirror_mode": {
    "name": "ipython",
    "version": 3
   },
   "file_extension": ".py",
   "mimetype": "text/x-python",
   "name": "python",
   "nbconvert_exporter": "python",
   "pygments_lexer": "ipython3",
   "version": "3.8.8"
  }
 },
 "nbformat": 4,
 "nbformat_minor": 5
}
